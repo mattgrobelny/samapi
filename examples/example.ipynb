{
 "cells": [
  {
   "cell_type": "markdown",
   "metadata": {},
   "source": [
    "# Example SAM Predict"
   ]
  },
  {
   "cell_type": "code",
   "execution_count": null,
   "metadata": {},
   "outputs": [],
   "source": [
    "import base64\n",
    "import requests\n"
   ]
  },
  {
   "cell_type": "code",
   "execution_count": 2,
   "metadata": {},
   "outputs": [],
   "source": [
    "headers = {\n",
    "    \"access-token\": \"WOW1234563\"\n",
    "}"
   ]
  },
  {
   "cell_type": "code",
   "execution_count": 4,
   "metadata": {},
   "outputs": [],
   "source": [
    "image = open(\"..\\leaves.png\", \"rb\").read()\n"
   ]
  },
  {
   "cell_type": "markdown",
   "metadata": {},
   "source": [
    "## Prepare Data for API Call"
   ]
  },
  {
   "cell_type": "code",
   "execution_count": 5,
   "metadata": {},
   "outputs": [],
   "source": [
    "data ={\n",
    "  \"type\": \"vit_t\",\n",
    "  \"bbox\": [\n",
    "    0,\n",
    "    0,\n",
    "    0,\n",
    "    0\n",
    "  ],\n",
    "  \"point_coords\": [\n",
    "    [\n",
    "      0,\n",
    "      0\n",
    "    ],\n",
    "    [\n",
    "      1,\n",
    "      0\n",
    "    ]\n",
    "  ],\n",
    "  \"point_labels\": [\n",
    "    0,\n",
    "    1\n",
    "  ],\n",
    "  \"b64img\": base64.b64encode(image).decode(\"utf-8\"),\n",
    "  # \"b64mask\": \"string\",\n",
    "  \"multimask_output\": \"false\"\n",
    "\n",
    "}"
   ]
  },
  {
   "cell_type": "markdown",
   "metadata": {},
   "source": [
    "# Run API Call "
   ]
  },
  {
   "cell_type": "code",
   "execution_count": 6,
   "metadata": {},
   "outputs": [
    {
     "name": "stdout",
     "output_type": "stream",
     "text": [
      "[{'type': 'Feature', 'geometry': {'type': 'Polygon', 'coordinates': [[[2.0, 5.5], [1.0, 5.5], [0.0, 5.5], [-0.5, 5.0], [-0.5, 4.0], [-0.5, 3.0], [-0.5, 2.0], [-0.5, 1.0], [-0.5, 0.0], [0.0, -0.5], [1.0, -0.5], [2.0, -0.5], [3.0, -0.5], [4.0, -0.5], [5.0, -0.5], [6.0, -0.5], [7.0, -0.5], [7.5, 0.0], [7.5, 1.0], [7.0, 1.5], [6.5, 2.0], [6.5, 3.0], [6.0, 3.5], [5.5, 4.0], [5.0, 4.5], [4.0, 4.5], [3.0, 4.5], [2.5, 5.0], [2.0, 5.5]]]}, 'properties': {'object_idx': -1, 'label': 'object', 'quality': 0.5574937462806702, 'sam_model': 'vit_t'}}]\n"
     ]
    }
   ],
   "source": [
    "response = requests.post(\"http://localhost:8000/sam\", headers=headers, json=data, timeout=200)\n",
    "if response.status_code == 200:\n",
    "    try:\n",
    "        print(response.json())\n",
    "    except requests.JSONDecodeError:\n",
    "        print(\"Response did not contain valid JSON\")\n",
    "else:\n",
    "    print(f\"Error: Received status code {response.status_code}\")\n"
   ]
  }
 ],
 "metadata": {
  "kernelspec": {
   "display_name": ".venv",
   "language": "python",
   "name": "python3"
  },
  "language_info": {
   "codemirror_mode": {
    "name": "ipython",
    "version": 3
   },
   "file_extension": ".py",
   "mimetype": "text/x-python",
   "name": "python",
   "nbconvert_exporter": "python",
   "pygments_lexer": "ipython3",
   "version": "3.10.11"
  }
 },
 "nbformat": 4,
 "nbformat_minor": 2
}
